{
  "nbformat": 4,
  "nbformat_minor": 0,
  "metadata": {
    "colab": {
      "provenance": [],
      "mount_file_id": "1SKT14zwGvLE0Um33K62nf2FBKgRV5kBl",
      "authorship_tag": "ABX9TyPlDsHTY3X3250qDuGWDoqu",
      "include_colab_link": true
    },
    "kernelspec": {
      "name": "python3",
      "display_name": "Python 3"
    },
    "language_info": {
      "name": "python"
    },
    "widgets": {
      "application/vnd.jupyter.widget-state+json": {
        "6affa29dd2374ba2b575e2318b6bea45": {
          "model_module": "@jupyter-widgets/controls",
          "model_name": "SelectMultipleModel",
          "model_module_version": "1.5.0",
          "state": {
            "_dom_classes": [],
            "_model_module": "@jupyter-widgets/controls",
            "_model_module_version": "1.5.0",
            "_model_name": "SelectMultipleModel",
            "_options_labels": [
              "TOU Rate",
              "Solar $",
              "Solar kWh",
              "EV",
              "Budget Billing $",
              "Budget Billing kWh",
              "AMI"
            ],
            "_view_count": null,
            "_view_module": "@jupyter-widgets/controls",
            "_view_module_version": "1.5.0",
            "_view_name": "SelectMultipleView",
            "description": "Dimensions:",
            "description_tooltip": null,
            "disabled": false,
            "index": [
              0
            ],
            "layout": "IPY_MODEL_3d86828ca9834c96ae6db7196eda6614",
            "rows": 5,
            "style": "IPY_MODEL_97775b3c4f22441daea053b2aef39e70"
          }
        },
        "3d86828ca9834c96ae6db7196eda6614": {
          "model_module": "@jupyter-widgets/base",
          "model_name": "LayoutModel",
          "model_module_version": "1.2.0",
          "state": {
            "_model_module": "@jupyter-widgets/base",
            "_model_module_version": "1.2.0",
            "_model_name": "LayoutModel",
            "_view_count": null,
            "_view_module": "@jupyter-widgets/base",
            "_view_module_version": "1.2.0",
            "_view_name": "LayoutView",
            "align_content": null,
            "align_items": null,
            "align_self": null,
            "border": null,
            "bottom": null,
            "display": null,
            "flex": null,
            "flex_flow": null,
            "grid_area": null,
            "grid_auto_columns": null,
            "grid_auto_flow": null,
            "grid_auto_rows": null,
            "grid_column": null,
            "grid_gap": null,
            "grid_row": null,
            "grid_template_areas": null,
            "grid_template_columns": null,
            "grid_template_rows": null,
            "height": null,
            "justify_content": null,
            "justify_items": null,
            "left": null,
            "margin": null,
            "max_height": null,
            "max_width": null,
            "min_height": null,
            "min_width": null,
            "object_fit": null,
            "object_position": null,
            "order": null,
            "overflow": null,
            "overflow_x": null,
            "overflow_y": null,
            "padding": null,
            "right": null,
            "top": null,
            "visibility": null,
            "width": null
          }
        },
        "97775b3c4f22441daea053b2aef39e70": {
          "model_module": "@jupyter-widgets/controls",
          "model_name": "DescriptionStyleModel",
          "model_module_version": "1.5.0",
          "state": {
            "_model_module": "@jupyter-widgets/controls",
            "_model_module_version": "1.5.0",
            "_model_name": "DescriptionStyleModel",
            "_view_count": null,
            "_view_module": "@jupyter-widgets/base",
            "_view_module_version": "1.2.0",
            "_view_name": "StyleView",
            "description_width": ""
          }
        },
        "393413b79c26435489a5d9c745765e78": {
          "model_module": "@jupyter-widgets/controls",
          "model_name": "HTMLModel",
          "model_module_version": "1.5.0",
          "state": {
            "_dom_classes": [],
            "_model_module": "@jupyter-widgets/controls",
            "_model_module_version": "1.5.0",
            "_model_name": "HTMLModel",
            "_view_count": null,
            "_view_module": "@jupyter-widgets/controls",
            "_view_module_version": "1.5.0",
            "_view_name": "HTMLView",
            "description": "",
            "description_tooltip": null,
            "layout": "IPY_MODEL_a7216319b4674141866b50525e866372",
            "placeholder": "​",
            "style": "IPY_MODEL_a0170844297c47398f56b1858cb00f7a",
            "value": "<p><strong>Explanation:</strong> Based on the selected dimensions (TOU Rate), the system determines which elements to include in the user's experience. 'Include' overrides 'Pass', and 'Kill' overrides both 'Include' and 'Pass'.</p>"
          }
        },
        "a7216319b4674141866b50525e866372": {
          "model_module": "@jupyter-widgets/base",
          "model_name": "LayoutModel",
          "model_module_version": "1.2.0",
          "state": {
            "_model_module": "@jupyter-widgets/base",
            "_model_module_version": "1.2.0",
            "_model_name": "LayoutModel",
            "_view_count": null,
            "_view_module": "@jupyter-widgets/base",
            "_view_module_version": "1.2.0",
            "_view_name": "LayoutView",
            "align_content": null,
            "align_items": null,
            "align_self": null,
            "border": null,
            "bottom": null,
            "display": null,
            "flex": null,
            "flex_flow": null,
            "grid_area": null,
            "grid_auto_columns": null,
            "grid_auto_flow": null,
            "grid_auto_rows": null,
            "grid_column": null,
            "grid_gap": null,
            "grid_row": null,
            "grid_template_areas": null,
            "grid_template_columns": null,
            "grid_template_rows": null,
            "height": null,
            "justify_content": null,
            "justify_items": null,
            "left": null,
            "margin": null,
            "max_height": null,
            "max_width": null,
            "min_height": null,
            "min_width": null,
            "object_fit": null,
            "object_position": null,
            "order": null,
            "overflow": null,
            "overflow_x": null,
            "overflow_y": null,
            "padding": null,
            "right": null,
            "top": null,
            "visibility": null,
            "width": null
          }
        },
        "a0170844297c47398f56b1858cb00f7a": {
          "model_module": "@jupyter-widgets/controls",
          "model_name": "DescriptionStyleModel",
          "model_module_version": "1.5.0",
          "state": {
            "_model_module": "@jupyter-widgets/controls",
            "_model_module_version": "1.5.0",
            "_model_name": "DescriptionStyleModel",
            "_view_count": null,
            "_view_module": "@jupyter-widgets/base",
            "_view_module_version": "1.2.0",
            "_view_name": "StyleView",
            "description_width": ""
          }
        },
        "16e72f9f3aab45978d2faa0af36db8f9": {
          "model_module": "@jupyter-widgets/controls",
          "model_name": "HTMLModel",
          "model_module_version": "1.5.0",
          "state": {
            "_dom_classes": [],
            "_model_module": "@jupyter-widgets/controls",
            "_model_module_version": "1.5.0",
            "_model_name": "HTMLModel",
            "_view_count": null,
            "_view_module": "@jupyter-widgets/controls",
            "_view_module_version": "1.5.0",
            "_view_name": "HTMLView",
            "description": "",
            "description_tooltip": null,
            "layout": "IPY_MODEL_67402390ffd34722a52fb130f84f24c7",
            "placeholder": "​",
            "style": "IPY_MODEL_a0f1a251aeca411d90f4fc385734cc11",
            "value": "<table style='width:100%; border-collapse: collapse;'><tr><th style='border: 1px solid black; padding: 8px;'>Element</th><th style='border: 1px solid black; padding: 8px;'>Status</th><th style='border: 1px solid black; padding: 8px;'>Reason</th></tr><tr style='background-color: white;'><td style='border: 1px solid black; padding: 8px;'>Energy Flow</td><td style='border: 1px solid black; padding: 8px;'>Not Included</td><td style='border: 1px solid black; padding: 8px;'>Default pass</td></tr><tr style='background-color: white;'><td style='border: 1px solid black; padding: 8px;'>Cumulative Balance</td><td style='border: 1px solid black; padding: 8px;'>Not Included</td><td style='border: 1px solid black; padding: 8px;'>Default pass</td></tr><tr style='background-color: lightgreen;'><td style='border: 1px solid black; padding: 8px;'>TOU Usage & Cost</td><td style='border: 1px solid black; padding: 8px;'>Included</td><td style='border: 1px solid black; padding: 8px;'>TOU Rate dimension includes this element</td></tr><tr style='background-color: white;'><td style='border: 1px solid black; padding: 8px;'>Solar Production</td><td style='border: 1px solid black; padding: 8px;'>Not Included</td><td style='border: 1px solid black; padding: 8px;'>Default pass</td></tr></table>"
          }
        },
        "67402390ffd34722a52fb130f84f24c7": {
          "model_module": "@jupyter-widgets/base",
          "model_name": "LayoutModel",
          "model_module_version": "1.2.0",
          "state": {
            "_model_module": "@jupyter-widgets/base",
            "_model_module_version": "1.2.0",
            "_model_name": "LayoutModel",
            "_view_count": null,
            "_view_module": "@jupyter-widgets/base",
            "_view_module_version": "1.2.0",
            "_view_name": "LayoutView",
            "align_content": null,
            "align_items": null,
            "align_self": null,
            "border": null,
            "bottom": null,
            "display": null,
            "flex": null,
            "flex_flow": null,
            "grid_area": null,
            "grid_auto_columns": null,
            "grid_auto_flow": null,
            "grid_auto_rows": null,
            "grid_column": null,
            "grid_gap": null,
            "grid_row": null,
            "grid_template_areas": null,
            "grid_template_columns": null,
            "grid_template_rows": null,
            "height": null,
            "justify_content": null,
            "justify_items": null,
            "left": null,
            "margin": null,
            "max_height": null,
            "max_width": null,
            "min_height": null,
            "min_width": null,
            "object_fit": null,
            "object_position": null,
            "order": null,
            "overflow": null,
            "overflow_x": null,
            "overflow_y": null,
            "padding": null,
            "right": null,
            "top": null,
            "visibility": null,
            "width": null
          }
        },
        "a0f1a251aeca411d90f4fc385734cc11": {
          "model_module": "@jupyter-widgets/controls",
          "model_name": "DescriptionStyleModel",
          "model_module_version": "1.5.0",
          "state": {
            "_model_module": "@jupyter-widgets/controls",
            "_model_module_version": "1.5.0",
            "_model_name": "DescriptionStyleModel",
            "_view_count": null,
            "_view_module": "@jupyter-widgets/base",
            "_view_module_version": "1.2.0",
            "_view_name": "StyleView",
            "description_width": ""
          }
        }
      }
    }
  },
  "cells": [
    {
      "cell_type": "markdown",
      "metadata": {
        "id": "view-in-github",
        "colab_type": "text"
      },
      "source": [
        "<a href=\"https://colab.research.google.com/github/Rrakeshkrrakesh/Front-end-Developer-Interview-Questions/blob/master/Dynamic_CX.ipynb\" target=\"_parent\"><img src=\"https://colab.research.google.com/assets/colab-badge.svg\" alt=\"Open In Colab\"/></a>"
      ]
    },
    {
      "cell_type": "code",
      "source": [
        "import ipywidgets as widgets\n",
        "from IPython.display import display, HTML\n",
        "import json\n",
        "\n",
        "# Define the configuration matrix\n",
        "matrix = {\n",
        "    'Energy Flow': {'Default': 'pass', 'Solar $': 'include', 'Solar kWh': 'include', 'EV': 'pass', 'AMI': 'pass'},\n",
        "    'Cumulative Balance': {'Default': 'pass', 'Budget Billing $': 'include', 'Budget Billing kWh': 'include'},\n",
        "    'TOU Usage & Cost': {'Default': 'pass', 'TOU Rate': 'include', 'Solar $': 'kill', 'Solar kWh': 'kill'},\n",
        "    'Solar Production': {'Default': 'pass', 'Solar $': 'include', 'Solar kWh': 'include'}\n",
        "}\n",
        "\n",
        "dimensions = ['TOU Rate', 'Solar $', 'Solar kWh', 'EV', 'Budget Billing $', 'Budget Billing kWh', 'AMI']\n",
        "elements = list(matrix.keys())\n",
        "\n",
        "# Create widgets\n",
        "dimension_selector = widgets.SelectMultiple(\n",
        "    options=dimensions,\n",
        "    description='Dimensions:',\n",
        "    disabled=False\n",
        ")\n",
        "\n",
        "explanation_output = widgets.HTML(\n",
        "    value=\"Select user dimensions to see how they affect the Dynamic CX configuration.\"\n",
        ")\n",
        "\n",
        "table_output = widgets.HTML()\n",
        "\n",
        "# Define update function\n",
        "def update_table(change):\n",
        "    selected_dimensions = dimension_selector.value\n",
        "\n",
        "    html = \"<table style='width:100%; border-collapse: collapse;'>\"\n",
        "    html += \"<tr><th style='border: 1px solid black; padding: 8px;'>Element</th><th style='border: 1px solid black; padding: 8px;'>Status</th><th style='border: 1px solid black; padding: 8px;'>Reason</th></tr>\"\n",
        "\n",
        "    for element in elements:\n",
        "        status = 'pass'\n",
        "        reason = 'Default pass'\n",
        "        for dim in selected_dimensions:\n",
        "            if dim in matrix[element]:\n",
        "                if matrix[element][dim] == 'kill':\n",
        "                    status = 'kill'\n",
        "                    reason = f'{dim} dimension kills this element'\n",
        "                    break\n",
        "                elif matrix[element][dim] == 'include':\n",
        "                    status = 'include'\n",
        "                    reason = f'{dim} dimension includes this element'\n",
        "\n",
        "        color = 'lightgreen' if status == 'include' else 'lightcoral' if status == 'kill' else 'white'\n",
        "        html += f\"<tr style='background-color: {color};'>\"\n",
        "        html += f\"<td style='border: 1px solid black; padding: 8px;'>{element}</td>\"\n",
        "        html += f\"<td style='border: 1px solid black; padding: 8px;'>{'Included' if status == 'include' else 'Not Included'}</td>\"\n",
        "        html += f\"<td style='border: 1px solid black; padding: 8px;'>{reason}</td>\"\n",
        "        html += \"</tr>\"\n",
        "\n",
        "    html += \"</table>\"\n",
        "    table_output.value = html\n",
        "\n",
        "    if selected_dimensions:\n",
        "        explanation = f\"Based on the selected dimensions ({', '.join(selected_dimensions)}), \"\n",
        "        explanation += \"the system determines which elements to include in the user's experience. \"\n",
        "        explanation += \"'Include' overrides 'Pass', and 'Kill' overrides both 'Include' and 'Pass'.\"\n",
        "    else:\n",
        "        explanation = \"Select user dimensions to see how they affect the Dynamic CX configuration.\"\n",
        "\n",
        "    explanation_output.value = f\"<p><strong>Explanation:</strong> {explanation}</p>\"\n",
        "\n",
        "# Connect the update function to the widget\n",
        "dimension_selector.observe(update_table, names='value')\n",
        "\n",
        "# Display the widgets\n",
        "display(HTML(\"<h2>Dynamic CX Configuration Matrix</h2>\"))\n",
        "display(dimension_selector)\n",
        "display(explanation_output)\n",
        "display(table_output)\n",
        "\n",
        "# Initial update\n",
        "update_table(None)\n",
        "\n",
        "# Display how it works\n",
        "how_it_works = \"\"\"\n",
        "<div style=\"background-color: lightyellow; padding: 10px; margin-top: 20px; border-radius: 5px;\">\n",
        "<h4>How it works:</h4>\n",
        "<ol>\n",
        "<li>Each element has a default 'pass' status.</li>\n",
        "<li>Dimensions can 'include' or 'kill' an element.</li>\n",
        "<li>'Include' overrides 'pass'.</li>\n",
        "<li>'Kill' overrides both 'include' and 'pass'.</li>\n",
        "<li>The final status is determined by evaluating all selected dimensions.</li>\n",
        "</ol>\n",
        "</div>\n",
        "\"\"\"\n",
        "display(HTML(how_it_works))"
      ],
      "metadata": {
        "colab": {
          "base_uri": "https://localhost:8080/",
          "height": 641,
          "referenced_widgets": [
            "6affa29dd2374ba2b575e2318b6bea45",
            "3d86828ca9834c96ae6db7196eda6614",
            "97775b3c4f22441daea053b2aef39e70",
            "393413b79c26435489a5d9c745765e78",
            "a7216319b4674141866b50525e866372",
            "a0170844297c47398f56b1858cb00f7a",
            "16e72f9f3aab45978d2faa0af36db8f9",
            "67402390ffd34722a52fb130f84f24c7",
            "a0f1a251aeca411d90f4fc385734cc11"
          ]
        },
        "id": "KALDhRFsMamp",
        "outputId": "a7ce778e-3f65-44d0-8fb9-6564bed671fa"
      },
      "execution_count": 6,
      "outputs": [
        {
          "output_type": "display_data",
          "data": {
            "text/plain": [
              "<IPython.core.display.HTML object>"
            ],
            "text/html": [
              "<h2>Dynamic CX Configuration Matrix</h2>"
            ]
          },
          "metadata": {}
        },
        {
          "output_type": "display_data",
          "data": {
            "text/plain": [
              "SelectMultiple(description='Dimensions:', options=('TOU Rate', 'Solar $', 'Solar kWh', 'EV', 'Budget Billing $…"
            ],
            "application/vnd.jupyter.widget-view+json": {
              "version_major": 2,
              "version_minor": 0,
              "model_id": "6affa29dd2374ba2b575e2318b6bea45"
            }
          },
          "metadata": {}
        },
        {
          "output_type": "display_data",
          "data": {
            "text/plain": [
              "HTML(value='Select user dimensions to see how they affect the Dynamic CX configuration.')"
            ],
            "application/vnd.jupyter.widget-view+json": {
              "version_major": 2,
              "version_minor": 0,
              "model_id": "393413b79c26435489a5d9c745765e78"
            }
          },
          "metadata": {}
        },
        {
          "output_type": "display_data",
          "data": {
            "text/plain": [
              "HTML(value='')"
            ],
            "application/vnd.jupyter.widget-view+json": {
              "version_major": 2,
              "version_minor": 0,
              "model_id": "16e72f9f3aab45978d2faa0af36db8f9"
            }
          },
          "metadata": {}
        },
        {
          "output_type": "display_data",
          "data": {
            "text/plain": [
              "<IPython.core.display.HTML object>"
            ],
            "text/html": [
              "\n",
              "<div style=\"background-color: lightyellow; padding: 10px; margin-top: 20px; border-radius: 5px;\">\n",
              "<h4>How it works:</h4>\n",
              "<ol>\n",
              "<li>Each element has a default 'pass' status.</li>\n",
              "<li>Dimensions can 'include' or 'kill' an element.</li>\n",
              "<li>'Include' overrides 'pass'.</li>\n",
              "<li>'Kill' overrides both 'include' and 'pass'.</li>\n",
              "<li>The final status is determined by evaluating all selected dimensions.</li>\n",
              "</ol>\n",
              "</div>\n"
            ]
          },
          "metadata": {}
        }
      ]
    }
  ]
}